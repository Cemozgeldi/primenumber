{
  "nbformat": 4,
  "nbformat_minor": 0,
  "metadata": {
    "colab": {
      "name": "primenumber.py",
      "provenance": [],
      "authorship_tag": "ABX9TyMrXiNBYy+OS3tVSiKamMyV",
      "include_colab_link": true
    },
    "kernelspec": {
      "name": "python3",
      "display_name": "Python 3"
    },
    "language_info": {
      "name": "python"
    }
  },
  "cells": [
    {
      "cell_type": "markdown",
      "metadata": {
        "id": "view-in-github",
        "colab_type": "text"
      },
      "source": [
        "<a href=\"https://colab.research.google.com/github/Cemozgeldi/primenumber/blob/main/primenumber_py.ipynb\" target=\"_parent\"><img src=\"https://colab.research.google.com/assets/colab-badge.svg\" alt=\"Open In Colab\"/></a>"
      ]
    },
    {
      "cell_type": "code",
      "execution_count": 7,
      "metadata": {
        "id": "3QDjUT66ALEh"
      },
      "outputs": [],
      "source": [
        "# #Is It a Prime Number\n",
        "# task: Write a program that takes a number from the user and prints the result to check if it is a prime number\n",
        "\n",
        "# the examples of the desired output are as follows:\n",
        "# input--19== output:!9 is a prime number\n",
        "# input--10 == output: 10 is not a prime number#\n",
        "#note that;this question is famous on the web, so do it yourself to get more benefits from it.By the way, do not use try-except block."
      ]
    },
    {
      "cell_type": "code",
      "source": [
        "number = x"
      ],
      "metadata": {
        "colab": {
          "base_uri": "https://localhost:8080/",
          "height": 169
        },
        "id": "3wMHjUbiAe1E",
        "outputId": "51378764-de4b-4147-e794-0e8140b1af53"
      },
      "execution_count": 3,
      "outputs": [
        {
          "output_type": "error",
          "ename": "NameError",
          "evalue": "ignored",
          "traceback": [
            "\u001b[0;31m---------------------------------------------------------------------------\u001b[0m",
            "\u001b[0;31mNameError\u001b[0m                                 Traceback (most recent call last)",
            "\u001b[0;32m<ipython-input-3-d71b2421dd6e>\u001b[0m in \u001b[0;36m<module>\u001b[0;34m()\u001b[0m\n\u001b[0;32m----> 1\u001b[0;31m \u001b[0mnumber\u001b[0m \u001b[0;34m=\u001b[0m \u001b[0mx\u001b[0m\u001b[0;34m\u001b[0m\u001b[0;34m\u001b[0m\u001b[0m\n\u001b[0m",
            "\u001b[0;31mNameError\u001b[0m: name 'x' is not defined"
          ]
        }
      ]
    },
    {
      "cell_type": "code",
      "source": [
        "n= int(input(\"Enter a positive integer number if it is a Prime Number: \"))\n",
        "counter = 0\n",
        "\n",
        "for i in range(1, n+1) :\n",
        "  if n % i == 0:\n",
        "    counter += 1 #counter= counter +1\n",
        "\n",
        "if (n == 0) or (n == 1) or (counter >=3) :\n",
        "  print(n, \"is NOT a Prime Number.\")\n",
        "\n",
        "else:\n",
        "  print(n, \"is a Prime number.\")  \n"
      ],
      "metadata": {
        "colab": {
          "base_uri": "https://localhost:8080/"
        },
        "id": "yJparkUxBCMl",
        "outputId": "56b497dd-e1e4-403b-9beb-78dfbaadee99"
      },
      "execution_count": 11,
      "outputs": [
        {
          "output_type": "stream",
          "name": "stdout",
          "text": [
            "Enter a positive integer number if it is a Prime Number: 13\n",
            "13 is a Prime number.\n"
          ]
        }
      ]
    },
    {
      "cell_type": "code",
      "source": [
        "counter = 0"
      ],
      "metadata": {
        "id": "mrLfsrYHBwan"
      },
      "execution_count": 8,
      "outputs": []
    },
    {
      "cell_type": "code",
      "source": [
        "for i in range(1, num):\n",
        "  "
      ],
      "metadata": {
        "id": "ksc-gdQ2C1EC"
      },
      "execution_count": null,
      "outputs": []
    },
    {
      "cell_type": "code",
      "source": [
        "# Amstrong Number\n",
        "\n",
        "# Task:Find out if a given number is an\"Armstrong Number\":\n",
        "\n",
        "# an n-digit number that is the sum of the nth powers of its digits is called an n-armstrong number.\n",
        "\n",
        "# expamles\n",
        "\n",
        "# 371=33+73+13;\n",
        "# 9474 = 94+44+74+44;\n",
        "# 93084 = 95+35+05+85+45.\n",
        "\n",
        "# write a python program that;\n",
        "# -takes a positive integer number from the Use\n",
        "# -checks the entered number if it is armstronğ\n",
        "# -consider the negative,float and any entries other than numeric values then display a warning message to the user.\n"
      ],
      "metadata": {
        "id": "nFR9Vi_wFuVc"
      },
      "execution_count": 13,
      "outputs": []
    },
    {
      "cell_type": "code",
      "source": [
        "while True:\n",
        "  number = input(\"Enter a positive integer number :\")\n",
        "  digit = len(number)\n",
        "  summ = 0\n",
        "  \n",
        "  if not number.isdigit() :\n",
        "    print(number, \"is invalid.Please enter valid input :\")\n",
        "  \n",
        "  elif int(number) >= 0:\n",
        "      for i in range(len(number)) :\n",
        "        summ = summ + int(number[i]) ** digit\n",
        "\n",
        "  if summ == int(number) :\n",
        "    print(number, \"is an Armstrong Number\")\n",
        "    break\n",
        "  else:\n",
        "    print(number, \"is NOT an Armstrong Number\")        \n",
        "    break"
      ],
      "metadata": {
        "colab": {
          "base_uri": "https://localhost:8080/"
        },
        "id": "mCDgEKICFuZg",
        "outputId": "db10c640-099a-4f9b-f072-efddd4b3dcdf"
      },
      "execution_count": 18,
      "outputs": [
        {
          "output_type": "stream",
          "name": "stdout",
          "text": [
            "Enter a positive integer number :444\n",
            "444 is NOT an Armstrong Number\n"
          ]
        }
      ]
    },
    {
      "cell_type": "code",
      "source": [
        ""
      ],
      "metadata": {
        "id": "ZXRdWg6PFucd"
      },
      "execution_count": null,
      "outputs": []
    },
    {
      "cell_type": "code",
      "source": [
        ""
      ],
      "metadata": {
        "id": "wh1bwNyEFue5"
      },
      "execution_count": null,
      "outputs": []
    },
    {
      "cell_type": "code",
      "source": [
        ""
      ],
      "metadata": {
        "id": "S7ntWAI3FuiH"
      },
      "execution_count": null,
      "outputs": []
    },
    {
      "cell_type": "code",
      "source": [
        ""
      ],
      "metadata": {
        "id": "pKLYIpkTFulC"
      },
      "execution_count": null,
      "outputs": []
    },
    {
      "cell_type": "code",
      "source": [
        ""
      ],
      "metadata": {
        "id": "KQKkDBecFuoN"
      },
      "execution_count": null,
      "outputs": []
    },
    {
      "cell_type": "code",
      "source": [
        ""
      ],
      "metadata": {
        "id": "pX7BjJALFurX"
      },
      "execution_count": null,
      "outputs": []
    },
    {
      "cell_type": "code",
      "source": [
        ""
      ],
      "metadata": {
        "id": "_jO5Oh-9Fuw1"
      },
      "execution_count": null,
      "outputs": []
    },
    {
      "cell_type": "code",
      "source": [
        ""
      ],
      "metadata": {
        "id": "Z12oRYzkFu1n"
      },
      "execution_count": null,
      "outputs": []
    },
    {
      "cell_type": "code",
      "source": [
        ""
      ],
      "metadata": {
        "id": "tIujLX8lFu5m"
      },
      "execution_count": null,
      "outputs": []
    },
    {
      "cell_type": "code",
      "source": [
        ""
      ],
      "metadata": {
        "id": "xWgQ8LTtFu9u"
      },
      "execution_count": null,
      "outputs": []
    },
    {
      "cell_type": "code",
      "source": [
        ""
      ],
      "metadata": {
        "id": "f_JVwNlrFvBh"
      },
      "execution_count": null,
      "outputs": []
    },
    {
      "cell_type": "code",
      "source": [
        ""
      ],
      "metadata": {
        "id": "pIv1un5FFvFy"
      },
      "execution_count": null,
      "outputs": []
    },
    {
      "cell_type": "code",
      "source": [
        ""
      ],
      "metadata": {
        "id": "1bgH1xRmFvJR"
      },
      "execution_count": null,
      "outputs": []
    },
    {
      "cell_type": "code",
      "source": [
        ""
      ],
      "metadata": {
        "id": "FLZ16DAvFvMn"
      },
      "execution_count": null,
      "outputs": []
    },
    {
      "cell_type": "code",
      "source": [
        ""
      ],
      "metadata": {
        "id": "GVIBXOStFvP7"
      },
      "execution_count": null,
      "outputs": []
    },
    {
      "cell_type": "code",
      "source": [
        ""
      ],
      "metadata": {
        "id": "7pYOF7-ZFvTG"
      },
      "execution_count": null,
      "outputs": []
    },
    {
      "cell_type": "code",
      "source": [
        ""
      ],
      "metadata": {
        "id": "wsjGLn8DFvW-"
      },
      "execution_count": null,
      "outputs": []
    }
  ]
}